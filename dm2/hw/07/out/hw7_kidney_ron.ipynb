{
 "cells": [
  {
   "cell_type": "markdown",
   "metadata": {},
   "source": [
    "# Homework 7\n",
    "\n",
    "Rowan Data Mining 2 - Ron Neely  \n",
    "Due 11/29/18.  \n",
    "\n",
    "Easy but painful.  But a good exercise in R or your tool of choice.  You can work with someone else.  \n",
    "\n",
    "Download the Chronic Kidney Disease file from [uci](http://archive.ics.uci.edu/ml/machine-learning-databases/00336).  Use 7zip to unzip.\n",
    "Description of data is [here](https://archive.ics.uci.edu/ml/datasets/Chronic_Kidney_Disease).\n",
    "It needs a fair amount of cleanup which will give you some practice.  \n",
    "\n",
    "\n",
    "## Part 1: Load and Clean Data\n",
    "\n",
    "a. Open in text editor and remove all the intro nonsense (save it somewhere though so you know what the column headings etc. \n",
    "should be)  \n",
    "b. Add column headings  \n",
    "c. Make everything numeric.  E.g.  ckd=1, nonckd=0, Normal=0, Abnormal=1,  yes=1, no=0, etc.  \n",
    "d. Change missing data (currently == ?) to average values for class.  For example if average BP of ckd is 100 then ? becomes 100, if it’s 80 for nonckd then assign to 80.  (for the 1 and 0 cases choose the majority value) for that class  \n",
    "e. Write out file as a .csv file.\n",
    "\n",
    "## Part 2: Predict ckd=1\n",
    "\n",
    "f.\tRun a bagging example and a boosting example and see which works best in predicting ckd=1  \n",
    "g.\tSave your new csv file and submit.  \n",
    "h.\tNote I gave this HW assignment a couple of years ago and almost no 2 files agreed.  I then cleaned it myself and it agreed with Matt Long.  I still don’t know if Matt and I were right or if someone else was more right.  It will be interesting to see what people come up with."
   ]
  },
  {
   "cell_type": "code",
   "execution_count": 50,
   "metadata": {},
   "outputs": [
    {
     "name": "stdout",
     "output_type": "stream",
     "text": [
      "3.6.6 |Anaconda custom (64-bit)| (default, Jun 28 2018, 11:27:44) [MSC v.1900 64 bit (AMD64)]\n"
     ]
    }
   ],
   "source": [
    "%matplotlib inline\n",
    "import warnings\n",
    "warnings.filterwarnings('ignore') # avoid showing seaborn and sklearn warnings\n",
    "import collections\n",
    "import numpy as np\n",
    "import pandas as pd\n",
    "import matplotlib.pyplot as plt\n",
    "from scipy.io.arff import loadarff\n",
    "import seaborn as sns\n",
    "import sklearn\n",
    "from sklearn.cross_validation import cross_val_score\n",
    "from sklearn.cross_validation import train_test_split\n",
    "from sklearn.neighbors import KNeighborsClassifier\n",
    "from sklearn.metrics import accuracy_score, precision_score, \\\n",
    "    recall_score, f1_score, roc_curve, roc_auc_score, auc\n",
    "from sklearn.ensemble import GradientBoostingClassifier\n",
    "from sklearn.ensemble import RandomForestClassifier\n",
    "import sys\n",
    "print(sys.version)"
   ]
  },
  {
   "cell_type": "markdown",
   "metadata": {},
   "source": [
    "## Part 1: Load and Clean Data\n",
    "\n",
    "a. Open in text editor and remove all the intro nonsense (save it somewhere though so you know what the column headings etc. \n",
    "should be)  \n"
   ]
  },
  {
   "cell_type": "code",
   "execution_count": 2,
   "metadata": {},
   "outputs": [
    {
     "name": "stdout",
     "output_type": "stream",
     "text": [
      "/e/r/rn/rw/dm2/hw/07/out\n",
      "Chronic_Kidney_Disease.rar\n",
      "chronic_kidney_disease.arff\n",
      "chronic_kidney_disease.info.txt\n",
      "chronic_kidney_disease_full.arff\n"
     ]
    }
   ],
   "source": [
    "!pwd\n",
    "!ls \"../in\"\n",
    "!cp \"../in/chronic_kidney_disease.arff\" ."
   ]
  },
  {
   "cell_type": "markdown",
   "metadata": {},
   "source": [
    "Line number 399 in the original file had a missing 'yes,no' for one of the values.\n",
    "Data starts on line 30 so this would be record 399-30 = 369.\n",
    "The original line looked like this:\n",
    "\n",
    "    75,70,1.020,0,0,normal,normal,notpresent,notpresent,107,48,0.8,144,3.5,13.6,46,10300,4.8,no,,no,no,good,no,no,notckd\n",
    "\n",
    "Note the double comma for 'htn'.  Edited by hand and replace the ',,' with ','."
   ]
  },
  {
   "cell_type": "code",
   "execution_count": 3,
   "metadata": {},
   "outputs": [
    {
     "name": "stdout",
     "output_type": "stream",
     "text": [
      "/e/r/rn/rw/dm2/hw/07/out\n",
      "chronic_kidney_disease.1.arff\n",
      "chronic_kidney_disease.arff\n",
      "hw7_kidney_ron.ipynb\n"
     ]
    }
   ],
   "source": [
    "# vi chronic_kidney_disease.1.arff\n",
    "!pwd\n",
    "!ls"
   ]
  },
  {
   "cell_type": "markdown",
   "metadata": {},
   "source": [
    "b. Add column headings  \n",
    "\n",
    "Load the file with scipy.\n",
    "Convert it to a pandas data frame with headings."
   ]
  },
  {
   "cell_type": "code",
   "execution_count": 4,
   "metadata": {},
   "outputs": [
    {
     "name": "stdout",
     "output_type": "stream",
     "text": [
      "(400, 25)\n",
      "Chronic_Kidney_Disease\n",
      "age      float64\n",
      "bp       float64\n",
      "sg        object\n",
      "al        object\n",
      "su        object\n",
      "rbc       object\n",
      "pc        object\n",
      "pcc       object\n",
      "ba        object\n",
      "bgr      float64\n",
      "bu       float64\n",
      "sc       float64\n",
      "sod      float64\n",
      "pot      float64\n",
      "hemo     float64\n",
      "pcv      float64\n",
      "wbcc     float64\n",
      "rbcc     float64\n",
      "htn       object\n",
      "dm        object\n",
      "cad       object\n",
      "appet     object\n",
      "pe        object\n",
      "ane       object\n",
      "class     object\n",
      "dtype: object\n"
     ]
    },
    {
     "data": {
      "text/html": [
       "<div>\n",
       "<style scoped>\n",
       "    .dataframe tbody tr th:only-of-type {\n",
       "        vertical-align: middle;\n",
       "    }\n",
       "\n",
       "    .dataframe tbody tr th {\n",
       "        vertical-align: top;\n",
       "    }\n",
       "\n",
       "    .dataframe thead th {\n",
       "        text-align: right;\n",
       "    }\n",
       "</style>\n",
       "<table border=\"1\" class=\"dataframe\">\n",
       "  <thead>\n",
       "    <tr style=\"text-align: right;\">\n",
       "      <th>Chronic_Kidney_Disease</th>\n",
       "      <th>age</th>\n",
       "      <th>bp</th>\n",
       "      <th>sg</th>\n",
       "      <th>al</th>\n",
       "      <th>su</th>\n",
       "      <th>rbc</th>\n",
       "      <th>pc</th>\n",
       "      <th>pcc</th>\n",
       "      <th>ba</th>\n",
       "      <th>bgr</th>\n",
       "      <th>...</th>\n",
       "      <th>pcv</th>\n",
       "      <th>wbcc</th>\n",
       "      <th>rbcc</th>\n",
       "      <th>htn</th>\n",
       "      <th>dm</th>\n",
       "      <th>cad</th>\n",
       "      <th>appet</th>\n",
       "      <th>pe</th>\n",
       "      <th>ane</th>\n",
       "      <th>class</th>\n",
       "    </tr>\n",
       "  </thead>\n",
       "  <tbody>\n",
       "    <tr>\n",
       "      <th>0</th>\n",
       "      <td>48.0</td>\n",
       "      <td>80.0</td>\n",
       "      <td>b'1.020'</td>\n",
       "      <td>b'1'</td>\n",
       "      <td>b'0'</td>\n",
       "      <td>b'?'</td>\n",
       "      <td>b'normal'</td>\n",
       "      <td>b'notpresent'</td>\n",
       "      <td>b'notpresent'</td>\n",
       "      <td>121.0</td>\n",
       "      <td>...</td>\n",
       "      <td>44.0</td>\n",
       "      <td>7800.0</td>\n",
       "      <td>5.2</td>\n",
       "      <td>b'yes'</td>\n",
       "      <td>b'yes'</td>\n",
       "      <td>b'no'</td>\n",
       "      <td>b'good'</td>\n",
       "      <td>b'no'</td>\n",
       "      <td>b'no'</td>\n",
       "      <td>b'ckd'</td>\n",
       "    </tr>\n",
       "    <tr>\n",
       "      <th>1</th>\n",
       "      <td>7.0</td>\n",
       "      <td>50.0</td>\n",
       "      <td>b'1.020'</td>\n",
       "      <td>b'4'</td>\n",
       "      <td>b'0'</td>\n",
       "      <td>b'?'</td>\n",
       "      <td>b'normal'</td>\n",
       "      <td>b'notpresent'</td>\n",
       "      <td>b'notpresent'</td>\n",
       "      <td>NaN</td>\n",
       "      <td>...</td>\n",
       "      <td>38.0</td>\n",
       "      <td>6000.0</td>\n",
       "      <td>NaN</td>\n",
       "      <td>b'no'</td>\n",
       "      <td>b'no'</td>\n",
       "      <td>b'no'</td>\n",
       "      <td>b'good'</td>\n",
       "      <td>b'no'</td>\n",
       "      <td>b'no'</td>\n",
       "      <td>b'ckd'</td>\n",
       "    </tr>\n",
       "    <tr>\n",
       "      <th>2</th>\n",
       "      <td>62.0</td>\n",
       "      <td>80.0</td>\n",
       "      <td>b'1.010'</td>\n",
       "      <td>b'2'</td>\n",
       "      <td>b'3'</td>\n",
       "      <td>b'normal'</td>\n",
       "      <td>b'normal'</td>\n",
       "      <td>b'notpresent'</td>\n",
       "      <td>b'notpresent'</td>\n",
       "      <td>423.0</td>\n",
       "      <td>...</td>\n",
       "      <td>31.0</td>\n",
       "      <td>7500.0</td>\n",
       "      <td>NaN</td>\n",
       "      <td>b'no'</td>\n",
       "      <td>b'yes'</td>\n",
       "      <td>b'no'</td>\n",
       "      <td>b'poor'</td>\n",
       "      <td>b'no'</td>\n",
       "      <td>b'yes'</td>\n",
       "      <td>b'ckd'</td>\n",
       "    </tr>\n",
       "  </tbody>\n",
       "</table>\n",
       "<p>3 rows × 25 columns</p>\n",
       "</div>"
      ],
      "text/plain": [
       "Chronic_Kidney_Disease   age    bp        sg    al    su        rbc  \\\n",
       "0                       48.0  80.0  b'1.020'  b'1'  b'0'       b'?'   \n",
       "1                        7.0  50.0  b'1.020'  b'4'  b'0'       b'?'   \n",
       "2                       62.0  80.0  b'1.010'  b'2'  b'3'  b'normal'   \n",
       "\n",
       "Chronic_Kidney_Disease         pc            pcc             ba    bgr  \\\n",
       "0                       b'normal'  b'notpresent'  b'notpresent'  121.0   \n",
       "1                       b'normal'  b'notpresent'  b'notpresent'    NaN   \n",
       "2                       b'normal'  b'notpresent'  b'notpresent'  423.0   \n",
       "\n",
       "Chronic_Kidney_Disease   ...     pcv    wbcc  rbcc     htn      dm    cad  \\\n",
       "0                        ...    44.0  7800.0   5.2  b'yes'  b'yes'  b'no'   \n",
       "1                        ...    38.0  6000.0   NaN   b'no'   b'no'  b'no'   \n",
       "2                        ...    31.0  7500.0   NaN   b'no'  b'yes'  b'no'   \n",
       "\n",
       "Chronic_Kidney_Disease    appet     pe     ane   class  \n",
       "0                       b'good'  b'no'   b'no'  b'ckd'  \n",
       "1                       b'good'  b'no'   b'no'  b'ckd'  \n",
       "2                       b'poor'  b'no'  b'yes'  b'ckd'  \n",
       "\n",
       "[3 rows x 25 columns]"
      ]
     },
     "execution_count": 4,
     "metadata": {},
     "output_type": "execute_result"
    }
   ],
   "source": [
    "raw_data, meta = loadarff(\"chronic_kidney_disease.1.arff\")\n",
    "df = pd.DataFrame(data=raw_data, index=None, columns=meta)\n",
    "print(df.shape)\n",
    "print(df.dtypes)\n",
    "df.head(3)"
   ]
  },
  {
   "cell_type": "markdown",
   "metadata": {},
   "source": [
    "Whoa.  Alot of these fields have messy 'b' strings.\n",
    "Let's decode them to clean them up.  \n",
    "Should be able to leave float64's alone.\n"
   ]
  },
  {
   "cell_type": "code",
   "execution_count": 5,
   "metadata": {},
   "outputs": [
    {
     "data": {
      "text/html": [
       "<div>\n",
       "<style scoped>\n",
       "    .dataframe tbody tr th:only-of-type {\n",
       "        vertical-align: middle;\n",
       "    }\n",
       "\n",
       "    .dataframe tbody tr th {\n",
       "        vertical-align: top;\n",
       "    }\n",
       "\n",
       "    .dataframe thead th {\n",
       "        text-align: right;\n",
       "    }\n",
       "</style>\n",
       "<table border=\"1\" class=\"dataframe\">\n",
       "  <thead>\n",
       "    <tr style=\"text-align: right;\">\n",
       "      <th>Chronic_Kidney_Disease</th>\n",
       "      <th>age</th>\n",
       "      <th>bp</th>\n",
       "      <th>sg</th>\n",
       "      <th>al</th>\n",
       "      <th>su</th>\n",
       "      <th>rbc</th>\n",
       "      <th>pc</th>\n",
       "      <th>pcc</th>\n",
       "      <th>ba</th>\n",
       "      <th>bgr</th>\n",
       "      <th>...</th>\n",
       "      <th>pcv</th>\n",
       "      <th>wbcc</th>\n",
       "      <th>rbcc</th>\n",
       "      <th>htn</th>\n",
       "      <th>dm</th>\n",
       "      <th>cad</th>\n",
       "      <th>appet</th>\n",
       "      <th>pe</th>\n",
       "      <th>ane</th>\n",
       "      <th>class</th>\n",
       "    </tr>\n",
       "  </thead>\n",
       "  <tbody>\n",
       "    <tr>\n",
       "      <th>0</th>\n",
       "      <td>48.0</td>\n",
       "      <td>80.0</td>\n",
       "      <td>1.020</td>\n",
       "      <td>1</td>\n",
       "      <td>0</td>\n",
       "      <td>?</td>\n",
       "      <td>normal</td>\n",
       "      <td>notpresent</td>\n",
       "      <td>notpresent</td>\n",
       "      <td>121.0</td>\n",
       "      <td>...</td>\n",
       "      <td>44.0</td>\n",
       "      <td>7800.0</td>\n",
       "      <td>5.2</td>\n",
       "      <td>yes</td>\n",
       "      <td>yes</td>\n",
       "      <td>no</td>\n",
       "      <td>good</td>\n",
       "      <td>no</td>\n",
       "      <td>no</td>\n",
       "      <td>ckd</td>\n",
       "    </tr>\n",
       "    <tr>\n",
       "      <th>1</th>\n",
       "      <td>7.0</td>\n",
       "      <td>50.0</td>\n",
       "      <td>1.020</td>\n",
       "      <td>4</td>\n",
       "      <td>0</td>\n",
       "      <td>?</td>\n",
       "      <td>normal</td>\n",
       "      <td>notpresent</td>\n",
       "      <td>notpresent</td>\n",
       "      <td>NaN</td>\n",
       "      <td>...</td>\n",
       "      <td>38.0</td>\n",
       "      <td>6000.0</td>\n",
       "      <td>NaN</td>\n",
       "      <td>no</td>\n",
       "      <td>no</td>\n",
       "      <td>no</td>\n",
       "      <td>good</td>\n",
       "      <td>no</td>\n",
       "      <td>no</td>\n",
       "      <td>ckd</td>\n",
       "    </tr>\n",
       "    <tr>\n",
       "      <th>2</th>\n",
       "      <td>62.0</td>\n",
       "      <td>80.0</td>\n",
       "      <td>1.010</td>\n",
       "      <td>2</td>\n",
       "      <td>3</td>\n",
       "      <td>normal</td>\n",
       "      <td>normal</td>\n",
       "      <td>notpresent</td>\n",
       "      <td>notpresent</td>\n",
       "      <td>423.0</td>\n",
       "      <td>...</td>\n",
       "      <td>31.0</td>\n",
       "      <td>7500.0</td>\n",
       "      <td>NaN</td>\n",
       "      <td>no</td>\n",
       "      <td>yes</td>\n",
       "      <td>no</td>\n",
       "      <td>poor</td>\n",
       "      <td>no</td>\n",
       "      <td>yes</td>\n",
       "      <td>ckd</td>\n",
       "    </tr>\n",
       "  </tbody>\n",
       "</table>\n",
       "<p>3 rows × 25 columns</p>\n",
       "</div>"
      ],
      "text/plain": [
       "Chronic_Kidney_Disease   age    bp     sg al su     rbc      pc         pcc  \\\n",
       "0                       48.0  80.0  1.020  1  0       ?  normal  notpresent   \n",
       "1                        7.0  50.0  1.020  4  0       ?  normal  notpresent   \n",
       "2                       62.0  80.0  1.010  2  3  normal  normal  notpresent   \n",
       "\n",
       "Chronic_Kidney_Disease          ba    bgr  ...    pcv    wbcc  rbcc  htn   dm  \\\n",
       "0                       notpresent  121.0  ...   44.0  7800.0   5.2  yes  yes   \n",
       "1                       notpresent    NaN  ...   38.0  6000.0   NaN   no   no   \n",
       "2                       notpresent  423.0  ...   31.0  7500.0   NaN   no  yes   \n",
       "\n",
       "Chronic_Kidney_Disease  cad  appet  pe  ane class  \n",
       "0                        no   good  no   no   ckd  \n",
       "1                        no   good  no   no   ckd  \n",
       "2                        no   poor  no  yes   ckd  \n",
       "\n",
       "[3 rows x 25 columns]"
      ]
     },
     "execution_count": 5,
     "metadata": {},
     "output_type": "execute_result"
    }
   ],
   "source": [
    "def clean_val(v):\n",
    "    if isinstance(v, np.float64) or isinstance(v, float):\n",
    "        return np.float64(v)\n",
    "    elif isinstance(v, bytes):\n",
    "        return v.decode('utf-8')\n",
    "    else:\n",
    "        return str(v)\n",
    "    \n",
    "df = df.applymap(clean_val)\n",
    "df.head(3)"
   ]
  },
  {
   "cell_type": "markdown",
   "metadata": {},
   "source": [
    "c. Make everything numeric.  E.g.  ckd=1, nonckd=0, Normal=0, Abnormal=1,  yes=1, no=0, etc.  \n",
    "d. Change missing data (currently == ?) to average values for class.  For example if average BP of ckd is 100 then ? becomes 100, if it’s 80 for nonckd then assign to 80.  (for the 1 and 0 cases choose the majority value) for that class  \n",
    "\n",
    "Do this column by column."
   ]
  },
  {
   "cell_type": "code",
   "execution_count": 6,
   "metadata": {},
   "outputs": [
    {
     "name": "stdout",
     "output_type": "stream",
     "text": [
      "True\n",
      "51.48337595907928\n",
      "False\n"
     ]
    }
   ],
   "source": [
    "def nan2mean(ser):\n",
    "    if ser.isnull().any():\n",
    "        print(\"True\")\n",
    "        mean = ser.mean()\n",
    "        print(mean)\n",
    "        ser = ser.fillna(mean)        \n",
    "    print(ser.isnull().any())\n",
    "    return ser\n",
    "\n",
    "df['age'] = nan2mean(df['age'])"
   ]
  },
  {
   "cell_type": "code",
   "execution_count": 7,
   "metadata": {},
   "outputs": [
    {
     "name": "stdout",
     "output_type": "stream",
     "text": [
      "True\n",
      "76.46907216494846\n",
      "False\n"
     ]
    }
   ],
   "source": [
    "df['bp'] = nan2mean(df['bp'])"
   ]
  },
  {
   "cell_type": "code",
   "execution_count": 8,
   "metadata": {},
   "outputs": [
    {
     "name": "stdout",
     "output_type": "stream",
     "text": [
      "1.020    106\n",
      "1.010     84\n",
      "1.025     81\n",
      "1.015     75\n",
      "?         47\n",
      "1.005      7\n",
      "Name: sg, dtype: int64\n",
      "1.0174079320113256\n",
      "1.020000    106\n",
      "1.010000     84\n",
      "1.025000     81\n",
      "1.015000     75\n",
      "1.017408     47\n",
      "1.005000      7\n",
      "Name: sg, dtype: int64\n"
     ]
    }
   ],
   "source": [
    "def map_num_mean(ser):\n",
    "    print(ser.value_counts())\n",
    "    def map_val(v):\n",
    "        if '?' == v:\n",
    "            return np.nan\n",
    "        else:\n",
    "            return np.float64(v)\n",
    "    nan_ser = ser.map(map_val)\n",
    "    mean = nan_ser.mean()\n",
    "    print(mean)\n",
    "    mean_ser = nan_ser.fillna(mean)\n",
    "    print(mean_ser.value_counts())\n",
    "    return nan_ser.fillna(mean)\n",
    "        \n",
    "df['sg'] = map_num_mean(df['sg'])"
   ]
  },
  {
   "cell_type": "code",
   "execution_count": 9,
   "metadata": {},
   "outputs": [
    {
     "name": "stdout",
     "output_type": "stream",
     "text": [
      "0    199\n",
      "?     46\n",
      "1     44\n",
      "2     43\n",
      "3     43\n",
      "4     24\n",
      "5      1\n",
      "Name: al, dtype: int64\n",
      "1.0169491525423728\n",
      "0.000000    199\n",
      "1.016949     46\n",
      "1.000000     44\n",
      "3.000000     43\n",
      "2.000000     43\n",
      "4.000000     24\n",
      "5.000000      1\n",
      "Name: al, dtype: int64\n"
     ]
    }
   ],
   "source": [
    "df['al'] = map_num_mean(df['al'])"
   ]
  },
  {
   "cell_type": "code",
   "execution_count": 10,
   "metadata": {},
   "outputs": [
    {
     "name": "stdout",
     "output_type": "stream",
     "text": [
      "0    290\n",
      "?     49\n",
      "2     18\n",
      "3     14\n",
      "1     13\n",
      "4     13\n",
      "5      3\n",
      "Name: su, dtype: int64\n",
      "0.45014245014245013\n",
      "0.000000    290\n",
      "0.450142     49\n",
      "2.000000     18\n",
      "3.000000     14\n",
      "1.000000     13\n",
      "4.000000     13\n",
      "5.000000      3\n",
      "Name: su, dtype: int64\n"
     ]
    }
   ],
   "source": [
    "df['su'] = map_num_mean(df['su'])"
   ]
  },
  {
   "cell_type": "code",
   "execution_count": 11,
   "metadata": {},
   "outputs": [
    {
     "name": "stdout",
     "output_type": "stream",
     "text": [
      "normal      201\n",
      "?           152\n",
      "abnormal     47\n",
      "Name: rbc, dtype: int64\n",
      "0    353\n",
      "1     47\n",
      "Name: rbc, dtype: int64\n"
     ]
    }
   ],
   "source": [
    "def map_abnorm(ser):\n",
    "    print(ser.value_counts())\n",
    "    most_common_val_string = ser.value_counts().sort_values(ascending=False).index[0]\n",
    "    def map_val(v):\n",
    "        if v == most_common_val_string or v == '?':\n",
    "            return 0\n",
    "        else:\n",
    "            return 1\n",
    "    ab_ser = ser.map(map_val)\n",
    "    print(ab_ser.value_counts())\n",
    "    return ab_ser\n",
    "\n",
    "df['rbc'] = map_abnorm(df['rbc'])"
   ]
  },
  {
   "cell_type": "code",
   "execution_count": 12,
   "metadata": {},
   "outputs": [
    {
     "name": "stdout",
     "output_type": "stream",
     "text": [
      "normal      259\n",
      "abnormal     76\n",
      "?            65\n",
      "Name: pc, dtype: int64\n",
      "0    324\n",
      "1     76\n",
      "Name: pc, dtype: int64\n"
     ]
    }
   ],
   "source": [
    "df['pc'] = map_abnorm(df['pc'])"
   ]
  },
  {
   "cell_type": "code",
   "execution_count": 13,
   "metadata": {},
   "outputs": [
    {
     "name": "stdout",
     "output_type": "stream",
     "text": [
      "notpresent    354\n",
      "present        42\n",
      "?               4\n",
      "Name: pcc, dtype: int64\n",
      "0    358\n",
      "1     42\n",
      "Name: pcc, dtype: int64\n"
     ]
    }
   ],
   "source": [
    "df['pcc'] = map_abnorm(df['pcc'])"
   ]
  },
  {
   "cell_type": "code",
   "execution_count": 14,
   "metadata": {},
   "outputs": [
    {
     "name": "stdout",
     "output_type": "stream",
     "text": [
      "notpresent    374\n",
      "present        22\n",
      "?               4\n",
      "Name: ba, dtype: int64\n",
      "0    378\n",
      "1     22\n",
      "Name: ba, dtype: int64\n"
     ]
    }
   ],
   "source": [
    "df['ba'] = map_abnorm(df['ba'])"
   ]
  },
  {
   "cell_type": "code",
   "execution_count": 15,
   "metadata": {},
   "outputs": [
    {
     "name": "stdout",
     "output_type": "stream",
     "text": [
      "True\n",
      "148.0365168539326\n",
      "False\n"
     ]
    }
   ],
   "source": [
    "df['bgr'] = nan2mean(df['bgr'])"
   ]
  },
  {
   "cell_type": "code",
   "execution_count": 16,
   "metadata": {},
   "outputs": [
    {
     "name": "stdout",
     "output_type": "stream",
     "text": [
      "True\n",
      "57.425721784776904\n",
      "False\n"
     ]
    }
   ],
   "source": [
    "df['bu'] = nan2mean(df['bu'])"
   ]
  },
  {
   "cell_type": "code",
   "execution_count": 17,
   "metadata": {},
   "outputs": [
    {
     "name": "stdout",
     "output_type": "stream",
     "text": [
      "True\n",
      "3.0724543080939934\n",
      "False\n"
     ]
    }
   ],
   "source": [
    "df['sc'] = nan2mean(df['sc'])"
   ]
  },
  {
   "cell_type": "code",
   "execution_count": 18,
   "metadata": {},
   "outputs": [
    {
     "name": "stdout",
     "output_type": "stream",
     "text": [
      "True\n",
      "137.52875399361022\n",
      "False\n"
     ]
    }
   ],
   "source": [
    "df['sod'] = nan2mean(df['sod'])"
   ]
  },
  {
   "cell_type": "code",
   "execution_count": 19,
   "metadata": {},
   "outputs": [
    {
     "name": "stdout",
     "output_type": "stream",
     "text": [
      "True\n",
      "4.627243589743592\n",
      "False\n"
     ]
    }
   ],
   "source": [
    "df['pot'] = nan2mean(df['pot'])"
   ]
  },
  {
   "cell_type": "code",
   "execution_count": 20,
   "metadata": {},
   "outputs": [
    {
     "name": "stdout",
     "output_type": "stream",
     "text": [
      "True\n",
      "12.526436781609195\n",
      "False\n"
     ]
    }
   ],
   "source": [
    "df['hemo'] = nan2mean(df['hemo'])"
   ]
  },
  {
   "cell_type": "code",
   "execution_count": 21,
   "metadata": {},
   "outputs": [
    {
     "name": "stdout",
     "output_type": "stream",
     "text": [
      "True\n",
      "38.88449848024316\n",
      "False\n"
     ]
    }
   ],
   "source": [
    "df['pcv'] = nan2mean(df['pcv'])"
   ]
  },
  {
   "cell_type": "code",
   "execution_count": 22,
   "metadata": {},
   "outputs": [
    {
     "name": "stdout",
     "output_type": "stream",
     "text": [
      "True\n",
      "8406.122448979591\n",
      "False\n"
     ]
    }
   ],
   "source": [
    "df['wbcc'] = nan2mean(df['wbcc'])"
   ]
  },
  {
   "cell_type": "code",
   "execution_count": 23,
   "metadata": {},
   "outputs": [
    {
     "name": "stdout",
     "output_type": "stream",
     "text": [
      "True\n",
      "4.707434944237919\n",
      "False\n"
     ]
    }
   ],
   "source": [
    "df['rbcc'] = nan2mean(df['rbcc'])"
   ]
  },
  {
   "cell_type": "code",
   "execution_count": 24,
   "metadata": {},
   "outputs": [
    {
     "name": "stdout",
     "output_type": "stream",
     "text": [
      "no     251\n",
      "yes    147\n",
      "?        2\n",
      "Name: htn, dtype: int64\n",
      "0    253\n",
      "1    147\n",
      "Name: htn, dtype: int64\n"
     ]
    }
   ],
   "source": [
    "df['htn'] = map_abnorm(df['htn'])"
   ]
  },
  {
   "cell_type": "code",
   "execution_count": 25,
   "metadata": {},
   "outputs": [
    {
     "name": "stdout",
     "output_type": "stream",
     "text": [
      "no     261\n",
      "yes    137\n",
      "?        2\n",
      "Name: dm, dtype: int64\n",
      "0    263\n",
      "1    137\n",
      "Name: dm, dtype: int64\n"
     ]
    }
   ],
   "source": [
    "df['dm'] = map_abnorm(df['dm'])"
   ]
  },
  {
   "cell_type": "code",
   "execution_count": 26,
   "metadata": {},
   "outputs": [
    {
     "name": "stdout",
     "output_type": "stream",
     "text": [
      "no     364\n",
      "yes     34\n",
      "?        2\n",
      "Name: cad, dtype: int64\n",
      "0    366\n",
      "1     34\n",
      "Name: cad, dtype: int64\n"
     ]
    }
   ],
   "source": [
    "df['cad'] = map_abnorm(df['cad'])"
   ]
  },
  {
   "cell_type": "code",
   "execution_count": 27,
   "metadata": {},
   "outputs": [
    {
     "name": "stdout",
     "output_type": "stream",
     "text": [
      "good    317\n",
      "poor     82\n",
      "?         1\n",
      "Name: appet, dtype: int64\n",
      "0    318\n",
      "1     82\n",
      "Name: appet, dtype: int64\n"
     ]
    }
   ],
   "source": [
    "df['appet'] = map_abnorm(df['appet'])"
   ]
  },
  {
   "cell_type": "code",
   "execution_count": 28,
   "metadata": {},
   "outputs": [
    {
     "name": "stdout",
     "output_type": "stream",
     "text": [
      "no     323\n",
      "yes     76\n",
      "?        1\n",
      "Name: pe, dtype: int64\n",
      "0    324\n",
      "1     76\n",
      "Name: pe, dtype: int64\n"
     ]
    }
   ],
   "source": [
    "df['pe'] = map_abnorm(df['pe'])"
   ]
  },
  {
   "cell_type": "code",
   "execution_count": 29,
   "metadata": {},
   "outputs": [
    {
     "name": "stdout",
     "output_type": "stream",
     "text": [
      "no     339\n",
      "yes     60\n",
      "?        1\n",
      "Name: ane, dtype: int64\n",
      "0    340\n",
      "1     60\n",
      "Name: ane, dtype: int64\n"
     ]
    }
   ],
   "source": [
    "df['ane'] = map_abnorm(df['ane'])"
   ]
  },
  {
   "cell_type": "code",
   "execution_count": 30,
   "metadata": {},
   "outputs": [
    {
     "name": "stdout",
     "output_type": "stream",
     "text": [
      "ckd       250\n",
      "notckd    150\n",
      "Name: class, dtype: int64\n",
      "0    250\n",
      "1    150\n",
      "Name: class, dtype: int64\n"
     ]
    }
   ],
   "source": [
    "df['class'] = map_abnorm(df['class'])"
   ]
  },
  {
   "cell_type": "code",
   "execution_count": 31,
   "metadata": {},
   "outputs": [
    {
     "data": {
      "text/plain": [
       "Chronic_Kidney_Disease\n",
       "age      False\n",
       "bp       False\n",
       "sg       False\n",
       "al       False\n",
       "su       False\n",
       "rbc      False\n",
       "pc       False\n",
       "pcc      False\n",
       "ba       False\n",
       "bgr      False\n",
       "bu       False\n",
       "sc       False\n",
       "sod      False\n",
       "pot      False\n",
       "hemo     False\n",
       "pcv      False\n",
       "wbcc     False\n",
       "rbcc     False\n",
       "htn      False\n",
       "dm       False\n",
       "cad      False\n",
       "appet    False\n",
       "pe       False\n",
       "ane      False\n",
       "class    False\n",
       "dtype: bool"
      ]
     },
     "execution_count": 31,
     "metadata": {},
     "output_type": "execute_result"
    }
   ],
   "source": [
    "df.isnull().any()"
   ]
  },
  {
   "cell_type": "markdown",
   "metadata": {},
   "source": [
    "e. Write out file as a .csv file."
   ]
  },
  {
   "cell_type": "code",
   "execution_count": 32,
   "metadata": {},
   "outputs": [
    {
     "data": {
      "text/plain": [
       "Chronic_Kidney_Disease\n",
       "age      float64\n",
       "bp       float64\n",
       "sg       float64\n",
       "al       float64\n",
       "su       float64\n",
       "rbc        int64\n",
       "pc         int64\n",
       "pcc        int64\n",
       "ba         int64\n",
       "bgr      float64\n",
       "bu       float64\n",
       "sc       float64\n",
       "sod      float64\n",
       "pot      float64\n",
       "hemo     float64\n",
       "pcv      float64\n",
       "wbcc     float64\n",
       "rbcc     float64\n",
       "htn        int64\n",
       "dm         int64\n",
       "cad        int64\n",
       "appet      int64\n",
       "pe         int64\n",
       "ane        int64\n",
       "class      int64\n",
       "dtype: object"
      ]
     },
     "execution_count": 32,
     "metadata": {},
     "output_type": "execute_result"
    }
   ],
   "source": [
    "df.dtypes"
   ]
  },
  {
   "cell_type": "code",
   "execution_count": 36,
   "metadata": {},
   "outputs": [
    {
     "name": "stdout",
     "output_type": "stream",
     "text": [
      "chronic_kidney_disease.1.arff\n",
      "chronic_kidney_disease.arff\n",
      "chronic_kidney_disease.csv\n",
      "hw7_kidney_ron.ipynb\n"
     ]
    }
   ],
   "source": [
    "df.to_csv(\"chronic_kidney_disease.csv\")\n",
    "!ls"
   ]
  },
  {
   "cell_type": "markdown",
   "metadata": {},
   "source": [
    "## Part 2: Predict ckd=1\n",
    "\n",
    "f.\tRun a bagging example and a boosting example and see which works best in predicting ckd=1  \n",
    "\n",
    "Let's run a random forest for bagging."
   ]
  },
  {
   "cell_type": "code",
   "execution_count": 52,
   "metadata": {},
   "outputs": [
    {
     "data": {
      "text/html": [
       "<div>\n",
       "<style scoped>\n",
       "    .dataframe tbody tr th:only-of-type {\n",
       "        vertical-align: middle;\n",
       "    }\n",
       "\n",
       "    .dataframe tbody tr th {\n",
       "        vertical-align: top;\n",
       "    }\n",
       "\n",
       "    .dataframe thead th {\n",
       "        text-align: right;\n",
       "    }\n",
       "</style>\n",
       "<table border=\"1\" class=\"dataframe\">\n",
       "  <thead>\n",
       "    <tr style=\"text-align: right;\">\n",
       "      <th></th>\n",
       "      <th>accuracy</th>\n",
       "      <th>precision</th>\n",
       "      <th>recall</th>\n",
       "      <th>f1</th>\n",
       "    </tr>\n",
       "  </thead>\n",
       "  <tbody>\n",
       "    <tr>\n",
       "      <th>RandomForestClassifier</th>\n",
       "      <td>0.983333</td>\n",
       "      <td>1.0</td>\n",
       "      <td>0.945946</td>\n",
       "      <td>0.972222</td>\n",
       "    </tr>\n",
       "    <tr>\n",
       "      <th>GradientBoostingClassifier</th>\n",
       "      <td>1.000000</td>\n",
       "      <td>1.0</td>\n",
       "      <td>1.000000</td>\n",
       "      <td>1.000000</td>\n",
       "    </tr>\n",
       "  </tbody>\n",
       "</table>\n",
       "</div>"
      ],
      "text/plain": [
       "                            accuracy  precision    recall        f1\n",
       "RandomForestClassifier      0.983333        1.0  0.945946  0.972222\n",
       "GradientBoostingClassifier  1.000000        1.0  1.000000  1.000000"
      ]
     },
     "execution_count": 52,
     "metadata": {},
     "output_type": "execute_result"
    }
   ],
   "source": [
    "test_size = 0.3\n",
    "random_state = 4444\n",
    "np.random.seed(random_state)\n",
    "y = df['class']\n",
    "X = df.drop('class', axis=1)\n",
    "Xtrain, Xtest, ytrain, ytest = train_test_split(X, y, test_size=test_size, random_state=random_state)\n",
    "\n",
    "test_size = 0.3\n",
    "random_state = 4444\n",
    "np.random.seed(random_state)\n",
    "\n",
    "algorithms = (\n",
    "    RandomForestClassifier,\n",
    "    GradientBoostingClassifier)\n",
    "\n",
    "algorithm_names = [a.__name__ for a in algorithms]\n",
    "score_names = ['accuracy', 'precision', 'recall', 'f1']\n",
    "def test_score(estimator, xtr, xtst, ytr, ytst):\n",
    "    estimator.fit(xtr, ytr)\n",
    "    yh = estimator.predict(xtst)\n",
    "    acc = accuracy_score(ytst, yh)\n",
    "    prc = precision_score(ytst, yh)\n",
    "    rcl = recall_score(ytst, yh)\n",
    "    f1= f1_score(ytst,yh)\n",
    "    return acc, prc, rcl, f1\n",
    "\n",
    "def test_scores():\n",
    "    dscores = collections.defaultdict(list)\n",
    "    for algorithm in algorithms:\n",
    "        acc, prc, rcl, f1 = test_score(algorithm(), Xtrain, Xtest, ytrain, ytest)\n",
    "        dscores['accuracy'].append(acc)\n",
    "        dscores['precision'].append(prc)\n",
    "        dscores['recall'].append(rcl)\n",
    "        dscores['f1'].append(f1)\n",
    "    return pd.DataFrame(dscores, columns = score_names, index = algorithm_names)\n",
    "\n",
    "scores = test_scores()\n",
    "scores"
   ]
  },
  {
   "cell_type": "markdown",
   "metadata": {},
   "source": [
    "Wow.  GradientBoosting outperformed Random Forestl\n",
    "\n",
    "g.\tSave your new csv file and submit.  "
   ]
  },
  {
   "cell_type": "markdown",
   "metadata": {},
   "source": [
    "h.\tNote I gave this HW assignment a couple of years ago and almost no 2 files agreed.  I then cleaned it myself and it agreed with Matt Long.  I still don’t know if Matt and I were right or if someone else was more right.  It will be interesting to see what people come up with."
   ]
  }
 ],
 "metadata": {
  "kernelspec": {
   "display_name": "Python 3",
   "language": "python",
   "name": "python3"
  },
  "language_info": {
   "codemirror_mode": {
    "name": "ipython",
    "version": 3
   },
   "file_extension": ".py",
   "mimetype": "text/x-python",
   "name": "python",
   "nbconvert_exporter": "python",
   "pygments_lexer": "ipython3",
   "version": "3.6.6"
  }
 },
 "nbformat": 4,
 "nbformat_minor": 2
}
