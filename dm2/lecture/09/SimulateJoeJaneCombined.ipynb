{
 "cells": [
  {
   "cell_type": "code",
   "execution_count": 1,
   "metadata": {},
   "outputs": [
    {
     "name": "stdout",
     "output_type": "stream",
     "text": [
      "3.5.3 |Anaconda custom (64-bit)| (default, May 15 2017, 10:43:23) [MSC v.1900 64 bit (AMD64)]\n"
     ]
    }
   ],
   "source": [
    "import random\n",
    "\n",
    "import sys\n",
    "print(sys.version)"
   ]
  },
  {
   "cell_type": "code",
   "execution_count": 2,
   "metadata": {
    "collapsed": true
   },
   "outputs": [],
   "source": [
    "random.seed(2)"
   ]
  },
  {
   "cell_type": "code",
   "execution_count": 24,
   "metadata": {
    "collapsed": true
   },
   "outputs": [],
   "source": [
    "def strPad(x):\n",
    "    s = str(x) + \"000000\"\n",
    "    return s[:5]"
   ]
  },
  {
   "cell_type": "code",
   "execution_count": 3,
   "metadata": {
    "collapsed": true
   },
   "outputs": [],
   "source": [
    "def get_ground_truth(listLen,perc):\n",
    "# returns a list with perc percent 1's and (100 - perc percent) 0's\n",
    "  L = []\n",
    "  for i in range(listLen):\n",
    "    if random.random() <= perc/100.0:\n",
    "        L.append(1)\n",
    "    else:\n",
    "        L.append(0)  \n",
    "  return L\n",
    "    "
   ]
  },
  {
   "cell_type": "code",
   "execution_count": 4,
   "metadata": {},
   "outputs": [
    {
     "data": {
      "text/plain": [
       "[0, 0, 1, 1, 0, 0, 0, 0, 0, 0, 0, 0, 0, 0, 0]"
      ]
     },
     "execution_count": 4,
     "metadata": {},
     "output_type": "execute_result"
    }
   ],
   "source": [
    "get_ground_truth(15,10)"
   ]
  },
  {
   "cell_type": "code",
   "execution_count": 5,
   "metadata": {},
   "outputs": [
    {
     "data": {
      "text/plain": [
       "[0, 0, 0, 0, 1, 1, 1, 0, 0, 0, 0, 0, 0, 1, 1]"
      ]
     },
     "execution_count": 5,
     "metadata": {},
     "output_type": "execute_result"
    }
   ],
   "source": [
    "get_ground_truth(15,30)"
   ]
  },
  {
   "cell_type": "code",
   "execution_count": 6,
   "metadata": {
    "collapsed": true
   },
   "outputs": [],
   "source": [
    "def get_joe(truth,perc):\n",
    "# L is a list of ground truth\n",
    "# perc is the expected percentage of 1 (+) cases\n",
    "# note Joe is always right on + and 90% accurate overall\n",
    "# certainty is the number of - cases divided by len(truth)\n",
    "  lenTruth = len(truth)\n",
    "  joe_perc = ((.1)*lenTruth)/(lenTruth - (perc/100.0)*lenTruth)\n",
    "  L = []\n",
    "  certainty = 0\n",
    "  for i in range(len(truth)):\n",
    "      if truth[i] == 1:\n",
    "        L.append(1)\n",
    "      else:\n",
    "        if random.random() <= joe_perc:\n",
    "            L.append(1)\n",
    "        else:\n",
    "            L.append(0)\n",
    "            certainty+=1\n",
    "\n",
    "  return L,certainty/lenTruth\n"
   ]
  },
  {
   "cell_type": "code",
   "execution_count": 7,
   "metadata": {},
   "outputs": [],
   "source": [
    "def get_accuracy(truth,test):\n",
    "  correct = 0\n",
    "  FP = 0\n",
    "  FN = 0\n",
    "  for i in range(len(truth)):\n",
    "     if truth[i]==test[i]:\n",
    "        correct+=1\n",
    "     else:\n",
    "        if test[i]==0:\n",
    "            FN+=1\n",
    "        else:\n",
    "            FP+=1\n",
    "  return correct/len(truth),FP/len(truth),FN/len(truth)"
   ]
  },
  {
   "cell_type": "code",
   "execution_count": 8,
   "metadata": {},
   "outputs": [
    {
     "name": "stdout",
     "output_type": "stream",
     "text": [
      "[0, 1, 0, 0, 0, 0, 0, 0, 0, 0, 0, 0, 0, 0, 0, 0, 0, 0, 0, 0]\n",
      "[0, 1, 0, 0, 0, 0, 0, 0, 0, 0, 0, 0, 0, 0, 0, 0, 0, 0, 0, 0]\n",
      "(1.0, 0.0, 0.0) 0.95\n"
     ]
    }
   ],
   "source": [
    "#test joe\n",
    "t = get_ground_truth(20,15)\n",
    "j,certainty = get_joe(t,15)\n",
    "print(t)\n",
    "print(j)\n",
    "print(get_accuracy(t,j),certainty)"
   ]
  },
  {
   "cell_type": "code",
   "execution_count": 9,
   "metadata": {},
   "outputs": [
    {
     "name": "stdout",
     "output_type": "stream",
     "text": [
      "(0.902, 0.098, 0.0) 0.81\n",
      "(0.898, 0.102, 0.0) 0.806\n",
      "(0.89, 0.11, 0.0) 0.781\n",
      "(0.897, 0.103, 0.0) 0.8\n",
      "(0.892, 0.108, 0.0) 0.804\n"
     ]
    }
   ],
   "source": [
    "#check to make sure joe is 90% accurate given 10% + cases\n",
    "for i in range(5):\n",
    "    t = get_ground_truth(1000,10)\n",
    "    j,certainty = get_joe(t,10)\n",
    "    print(get_accuracy(t,j),certainty)"
   ]
  },
  {
   "cell_type": "code",
   "execution_count": 10,
   "metadata": {},
   "outputs": [
    {
     "name": "stdout",
     "output_type": "stream",
     "text": [
      "(0.906, 0.094, 0.0) 0.644\n",
      "(0.899, 0.101, 0.0) 0.643\n",
      "(0.896, 0.104, 0.0) 0.631\n",
      "(0.901, 0.099, 0.0) 0.659\n",
      "(0.891, 0.109, 0.0) 0.673\n"
     ]
    }
   ],
   "source": [
    "#check to make sure joe is still 90% accurate given 25% + cases\n",
    "for i in range(5):\n",
    "    t = get_ground_truth(1000,25)\n",
    "    j,certainty = get_joe(t,25)\n",
    "    print(get_accuracy(t,j),certainty)"
   ]
  },
  {
   "cell_type": "code",
   "execution_count": 11,
   "metadata": {},
   "outputs": [
    {
     "name": "stdout",
     "output_type": "stream",
     "text": [
      "(0.893, 0.107, 0.0) 0.098\n",
      "(0.902, 0.098, 0.0) 0.103\n",
      "(0.899, 0.101, 0.0) 0.102\n",
      "(0.897, 0.103, 0.0) 0.093\n",
      "(0.9, 0.1, 0.0) 0.095\n"
     ]
    }
   ],
   "source": [
    "#check to make sure joe is still 90% accurate given 80% + cases\n",
    "for i in range(5):\n",
    "    t = get_ground_truth(1000,80)\n",
    "    j,certainty = get_joe(t,80)\n",
    "    print(get_accuracy(t,j),certainty)"
   ]
  },
  {
   "cell_type": "code",
   "execution_count": 12,
   "metadata": {
    "collapsed": true
   },
   "outputs": [],
   "source": [
    "def get_jane(truth,perc):\n",
    "# L is a list of ground truth\n",
    "# perc is the expected percentage of 1 (+) cases\n",
    "# note Jane is always right on - and 90% accurate overall\n",
    "# certainty = + cases divided by lenTruth\n",
    "  lenTruth = len(truth)\n",
    "  jane_perc = ((.1)*lenTruth)/((perc/100.0)*lenTruth)\n",
    "  L = []\n",
    "  certainty = 0\n",
    "  for i in range(lenTruth):\n",
    "      if truth[i] == 0:\n",
    "        L.append(0)\n",
    "      else:\n",
    "        if random.random() <= jane_perc:\n",
    "            L.append(0)\n",
    "        else:\n",
    "            L.append(1)\n",
    "            certainty+=1\n",
    "\n",
    "  return L,certainty/lenTruth"
   ]
  },
  {
   "cell_type": "code",
   "execution_count": 13,
   "metadata": {},
   "outputs": [
    {
     "name": "stdout",
     "output_type": "stream",
     "text": [
      "[1, 1, 0, 0, 0, 0, 0, 0, 0, 0, 0, 0, 0, 0, 0, 1, 0, 0, 0, 0]\n",
      "[0, 0, 0, 0, 0, 0, 0, 0, 0, 0, 0, 0, 0, 0, 0, 1, 0, 0, 0, 0]\n",
      "(0.9, 0.0, 0.1) 0.05\n"
     ]
    }
   ],
   "source": [
    "#test jane\n",
    "t = get_ground_truth(20,15)\n",
    "j,certainty = get_jane(t,15)\n",
    "print(t)\n",
    "print(j)\n",
    "print(get_accuracy(t,j),certainty)"
   ]
  },
  {
   "cell_type": "code",
   "execution_count": 14,
   "metadata": {},
   "outputs": [
    {
     "name": "stdout",
     "output_type": "stream",
     "text": [
      "(0.92, 0.0, 0.08) 0.0\n",
      "(0.903, 0.0, 0.097) 0.0\n",
      "(0.9, 0.0, 0.1) 0.0\n",
      "(0.898, 0.0, 0.102) 0.0\n",
      "(0.897, 0.0, 0.103) 0.0\n"
     ]
    }
   ],
   "source": [
    "#check to make sure jane is 90% accurate given 10% + cases\n",
    "for i in range(5):\n",
    "    t = get_ground_truth(1000,10)\n",
    "    j,certainty = get_jane(t,10)\n",
    "    print(get_accuracy(t,j),certainty)"
   ]
  },
  {
   "cell_type": "code",
   "execution_count": 15,
   "metadata": {},
   "outputs": [
    {
     "name": "stdout",
     "output_type": "stream",
     "text": [
      "(0.908, 0.0, 0.092) 0.159\n",
      "(0.898, 0.0, 0.102) 0.161\n",
      "(0.889, 0.0, 0.111) 0.133\n",
      "(0.904, 0.0, 0.096) 0.169\n",
      "(0.89, 0.0, 0.11) 0.144\n"
     ]
    }
   ],
   "source": [
    "#check to make sure jane is 90% accurate given 25% + cases\n",
    "for i in range(5):\n",
    "    t = get_ground_truth(1000,25)\n",
    "    j,certainty = get_jane(t,25)\n",
    "    print(get_accuracy(t,j),certainty)"
   ]
  },
  {
   "cell_type": "code",
   "execution_count": 16,
   "metadata": {},
   "outputs": [
    {
     "name": "stdout",
     "output_type": "stream",
     "text": [
      "(0.923, 0.0, 0.077) 0.713\n",
      "(0.905, 0.0, 0.095) 0.723\n",
      "(0.906, 0.0, 0.094) 0.711\n",
      "(0.912, 0.0, 0.088) 0.733\n",
      "(0.902, 0.0, 0.098) 0.678\n"
     ]
    }
   ],
   "source": [
    "#check to make sure jane is 90% accurate given 80% + cases\n",
    "for i in range(5):\n",
    "    t = get_ground_truth(1000,80)\n",
    "    j,certainty = get_jane(t,80)\n",
    "    print(get_accuracy(t,j),certainty)"
   ]
  },
  {
   "cell_type": "code",
   "execution_count": 17,
   "metadata": {},
   "outputs": [],
   "source": [
    "def get_combined(joe,jane):\n",
    "#Note when joe and jane agree prediction is correct\n",
    "#When they disagree it may or may not be FP\n",
    "#FN is impossible\n",
    "  certainty = 0\n",
    "  L = []\n",
    "  for i in range(len(joe)):\n",
    "    if joe[i]==1:\n",
    "      L.append(1)\n",
    "    else:\n",
    "      L.append(0)\n",
    "    if joe[i]==jane[i]:\n",
    "        certainty += 1\n",
    "  return L,certainty/len(joe)\n"
   ]
  },
  {
   "cell_type": "code",
   "execution_count": 18,
   "metadata": {},
   "outputs": [
    {
     "name": "stdout",
     "output_type": "stream",
     "text": [
      "[0, 1, 0, 1, 0, 0, 0, 0, 0, 0, 1, 0, 1, 1, 0, 0, 0, 1, 0, 0]\n",
      "[0, 1, 0, 1, 0, 1, 0, 0, 0, 1, 1, 0, 1, 1, 0, 0, 0, 1, 0, 0]\n",
      "[0, 0, 0, 0, 0, 0, 0, 0, 0, 0, 1, 0, 1, 1, 0, 0, 0, 1, 0, 0]\n",
      "[0, 1, 0, 1, 0, 1, 0, 0, 0, 1, 1, 0, 1, 1, 0, 0, 0, 1, 0, 0]\n",
      "(0.9, 0.1, 0.0) 0.6\n",
      "(0.9, 0.0, 0.1) 0.2\n",
      "(0.9, 0.1, 0.0) 0.8\n"
     ]
    }
   ],
   "source": [
    "#test combined\n",
    "t = get_ground_truth(20,25)\n",
    "joe,certainty1 = get_joe(t,25)\n",
    "jane,certainty2 = get_jane(t,25)\n",
    "c,certainty3 = get_combined(joe,jane)\n",
    "print(t)\n",
    "print(joe)\n",
    "print(jane)\n",
    "print(c)\n",
    "print(get_accuracy(t,joe),certainty1)\n",
    "print(get_accuracy(t,jane),certainty2)\n",
    "print(get_accuracy(t,c),certainty3)"
   ]
  },
  {
   "cell_type": "code",
   "execution_count": 28,
   "metadata": {},
   "outputs": [
    {
     "name": "stdout",
     "output_type": "stream",
     "text": [
      "case 0: 10% milignant\n",
      "\n",
      "     Joe: Accuracy:0.903 FP:0.096 FN:0.000 certainty:0.793\n",
      "    Jane: Accuracy:0.890 FP:0.000 FN:0.109 certainty:0.000\n",
      "combined: Accuracy:0.903 FP:0.096 FN:0.000 certainty:0.793\n",
      "\n",
      "\n",
      "\n",
      "case 1: 20% milignant\n",
      "\n",
      "     Joe: Accuracy:0.901 FP:0.098 FN:0.000 certainty:0.698\n",
      "    Jane: Accuracy:0.899 FP:0.000 FN:0.100 certainty:0.102\n",
      "combined: Accuracy:0.901 FP:0.098 FN:0.000 certainty:0.801\n",
      "\n",
      "\n",
      "\n",
      "case 2: 30% milignant\n",
      "\n",
      "     Joe: Accuracy:0.906 FP:0.093 FN:0.000 certainty:0.608\n",
      "    Jane: Accuracy:0.902 FP:0.000 FN:0.097 certainty:0.200\n",
      "combined: Accuracy:0.906 FP:0.093 FN:0.000 certainty:0.809\n",
      "\n",
      "\n",
      "\n",
      "case 3: 40% milignant\n",
      "\n",
      "     Joe: Accuracy:0.898 FP:0.101 FN:0.000 certainty:0.493\n",
      "    Jane: Accuracy:0.896 FP:0.000 FN:0.104 certainty:0.301\n",
      "combined: Accuracy:0.898 FP:0.101 FN:0.000 certainty:0.794\n",
      "\n",
      "\n",
      "\n",
      "case 4: 50% milignant\n",
      "\n",
      "     Joe: Accuracy:0.904 FP:0.095 FN:0.000 certainty:0.403\n",
      "    Jane: Accuracy:0.900 FP:0.000 FN:0.099 certainty:0.401\n",
      "combined: Accuracy:0.904 FP:0.095 FN:0.000 certainty:0.805\n",
      "\n",
      "\n",
      "\n",
      "case 5: 60% milignant\n",
      "\n",
      "     Joe: Accuracy:0.898 FP:0.101 FN:0.000 certainty:0.300\n",
      "    Jane: Accuracy:0.894 FP:0.000 FN:0.105 certainty:0.493\n",
      "combined: Accuracy:0.898 FP:0.101 FN:0.000 certainty:0.793\n",
      "\n",
      "\n",
      "\n",
      "case 6: 70% milignant\n",
      "\n",
      "     Joe: Accuracy:0.898 FP:0.101 FN:0.000 certainty:0.199\n",
      "    Jane: Accuracy:0.903 FP:0.000 FN:0.096 certainty:0.601\n",
      "combined: Accuracy:0.898 FP:0.101 FN:0.000 certainty:0.801\n",
      "\n",
      "\n",
      "\n",
      "case 7: 80% milignant\n",
      "\n",
      "     Joe: Accuracy:0.900 FP:0.099 FN:0.000 certainty:0.099\n",
      "    Jane: Accuracy:0.899 FP:0.000 FN:0.100 certainty:0.700\n",
      "combined: Accuracy:0.900 FP:0.099 FN:0.000 certainty:0.800\n",
      "\n",
      "\n",
      "\n",
      "case 8: 90% milignant\n",
      "\n",
      "     Joe: Accuracy:0.901 FP:0.098 FN:0.000 certainty:0.000\n",
      "    Jane: Accuracy:0.902 FP:0.000 FN:0.097 certainty:0.803\n",
      "combined: Accuracy:0.901 FP:0.098 FN:0.000 certainty:0.803\n",
      "\n",
      "\n",
      "\n"
     ]
    }
   ],
   "source": [
    "## Big finish\n",
    "perc = 10\n",
    "for i in range(9):\n",
    "    joeAccuracy = 0\n",
    "    janeAccuracy = 0\n",
    "    combinedAccuracy = 0\n",
    "    joeCertainty = 0\n",
    "    janeCertainty = 0\n",
    "    combinedCertainty = 0\n",
    "    joeFP = 0\n",
    "    joeFN = 0\n",
    "    janeFP = 0\n",
    "    janeFN = 0\n",
    "    combinedFP = 0\n",
    "    combinedFN = 0\n",
    "    for j in range(10):\n",
    "        t = get_ground_truth(1000,perc)\n",
    "        jane,certainty = get_jane(t,perc)\n",
    "        janeCertainty += certainty\n",
    "        acc,FP,FN = get_accuracy(t,jane)\n",
    "        janeAccuracy += acc\n",
    "        janeFP += FP\n",
    "        janeFN += FN\n",
    "        joe,certainty = get_joe(t,perc)\n",
    "        joeCertainty += certainty\n",
    "        acc,FP,FN = get_accuracy(t,joe)\n",
    "        joeAccuracy += acc\n",
    "        joeFP += FP\n",
    "        joeFN += FN\n",
    "        c,certainty = get_combined(joe,jane)\n",
    "        combinedCertainty += certainty\n",
    "        acc,FP,FN = get_accuracy(t,c)\n",
    "        combinedAccuracy+=acc\n",
    "        combinedFP+=FP\n",
    "        combinedFN+=FN\n",
    "    print(\"case \" +str(i)+\": \"+str(perc)+'% milignant\\n')\n",
    "    print(\"     Joe: Accuracy:\"+strPad(joeAccuracy/10)+\" FP:\"\n",
    "          +strPad(joeFP/10)+\" FN:\"+strPad(joeFN/10)+\" certainty:\"\n",
    "          +strPad(joeCertainty/10))\n",
    "    print(\"    Jane: Accuracy:\"+strPad(janeAccuracy/10)+\" FP:\"\n",
    "          +strPad(janeFP/10)+\" FN:\"+strPad(janeFN/10)+\" certainty:\"\n",
    "          +strPad(janeCertainty/10))\n",
    "    print(\"combined: Accuracy:\"+strPad(combinedAccuracy/10)+\" FP:\"\n",
    "          +strPad(combinedFP/10)+\" FN:\"+strPad(combinedFN/10)+\" certainty:\"\n",
    "          +strPad(combinedCertainty/10))\n",
    "    perc+=10  \n",
    "    print(\"\\n\\n\")"
   ]
  },
  {
   "cell_type": "code",
   "execution_count": null,
   "metadata": {
    "collapsed": true
   },
   "outputs": [],
   "source": []
  }
 ],
 "metadata": {
  "kernelspec": {
   "display_name": "Python 3",
   "language": "python",
   "name": "python3"
  },
  "language_info": {
   "codemirror_mode": {
    "name": "ipython",
    "version": 3
   },
   "file_extension": ".py",
   "mimetype": "text/x-python",
   "name": "python",
   "nbconvert_exporter": "python",
   "pygments_lexer": "ipython3",
   "version": "3.5.3"
  }
 },
 "nbformat": 4,
 "nbformat_minor": 2
}
