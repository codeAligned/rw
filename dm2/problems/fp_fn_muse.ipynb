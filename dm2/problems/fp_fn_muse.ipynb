{
 "cells": [
  {
   "cell_type": "markdown",
   "metadata": {},
   "source": [
    "# Ensemble of all False Postive and all False Negative Models\n",
    "\n",
    "Suppose your test data has the following truth values: `+ + + + + - - - - -`.\n",
    "\n",
    "Two models, \"FP\" and \"FN\" each get 50% accuracy.  However, FP model only gets false positives and FN model only gets false negatives.\n",
    "By example the False Positive model will get all of the first 5 cases right and maybe one of the last 5 negative cases wrong.  On the other hand the False Negative model will get all of the last 5 cases right and possibly one of the first five cases wrong.\n",
    "\n",
    "```\n",
    "Truth\t\t+ \t+ \t+ \t+ \t+ \t- \t- \t- \t- \t-\n",
    "FP Model \t+ \t+ \t+ \t+ \t+ \t- \t- \t+ \t- \t-\n",
    "FN Model \t+ \t- \t+ \t+ \t+ \t- \t- \t- \t- \t-\n",
    "```\n",
    "\n",
    "Can you assemble a ensemble model that outperforms both models?"
   ]
  },
  {
   "cell_type": "code",
   "execution_count": 17,
   "metadata": {},
   "outputs": [
    {
     "data": {
      "text/plain": [
       "[1, 1, 1, 1, 1, 0, 0, 0, 0, 0]"
      ]
     },
     "execution_count": 17,
     "metadata": {},
     "output_type": "execute_result"
    }
   ],
   "source": [
    "yt = [1,1,1,1,1,0,0,0,0,0]\n",
    "yfp = [1,1,1,1,1,0,0,1,0,0]\n",
    "yfn = [1,0,1,1,1,0,0,0,0,0]\n",
    "yt"
   ]
  },
  {
   "cell_type": "code",
   "execution_count": 23,
   "metadata": {},
   "outputs": [
    {
     "data": {
      "text/plain": [
       "[1, 1, 1, 1, 1, 0, 0, 1, 0, 0]"
      ]
     },
     "execution_count": 23,
     "metadata": {},
     "output_type": "execute_result"
    }
   ],
   "source": [
    "def ensemble_predict(fp_val, fn_val): # normally would pass in X\n",
    "    # return certain value\n",
    "    if not fp_val:\n",
    "        return 0\n",
    "    if fn_val:\n",
    "        return 1\n",
    "    # fp_val says it is positive and it is definitely not negative\n",
    "    # fn_val says it is negative and it is definitely not positive\n",
    "    # no additional certaninty can be gained\n",
    "    return fp_val # return preferred false value\n",
    "\n",
    "y_pred = list()\n",
    "for fp_val, fn_val in zip(yfp, yfn):\n",
    "    y_pred.append(ensemble_predict(fp_val, fn_val))\n",
    "y_pred\n"
   ]
  },
  {
   "cell_type": "code",
   "execution_count": null,
   "metadata": {},
   "outputs": [],
   "source": []
  }
 ],
 "metadata": {
  "kernelspec": {
   "display_name": "Python 3",
   "language": "python",
   "name": "python3"
  },
  "language_info": {
   "codemirror_mode": {
    "name": "ipython",
    "version": 3
   },
   "file_extension": ".py",
   "mimetype": "text/x-python",
   "name": "python",
   "nbconvert_exporter": "python",
   "pygments_lexer": "ipython3",
   "version": "3.5.2"
  }
 },
 "nbformat": 4,
 "nbformat_minor": 2
}
